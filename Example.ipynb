{
 "cells": [
  {
   "cell_type": "code",
   "execution_count": 57,
   "metadata": {},
   "outputs": [],
   "source": [
    "#gstat package example\n",
    "\n",
    "rm(list = ls())\n",
    "graphics.off()\n",
    "library(lhs)\n",
    "library(gstat)\n",
    "library(sp)\n",
    "options(warn=-1)\n",
    "#Problem definition\n",
    "#Output is 1 if the product of two numbers is larger than 0.75, x1, x2 are both uniformly distributed in [0,1]\n",
    "Reliability<-function (X) {\n",
    "  floor(X[ ,1]*X[ ,2]/0.75)\n",
    "}\n"
   ]
  },
  {
   "cell_type": "code",
   "execution_count": 58,
   "metadata": {},
   "outputs": [
    {
     "data": {
      "image/png": "[encoded data removed]",
      "text/plain": [
       "plot without title"
      ]
     },
     "metadata": {
      "image/png": {
       "height": 420,
       "width": 420
      }
     },
     "output_type": "display_data"
    }
   ],
   "source": [
    "x <- seq(0.75,1,by=0.01)\n",
    "plot(x,0.75/x,type=\"l\",lwd=2,xlim=c(0,1),ylim=c(0,1),xlab=\"x1\",ylab=\"x2\",cex.lab=1.5,cex.axis=1.5)\n",
    "polygon(c(0.75,1,rev(x)),c(1,1,rev(0.75/x)),col=\"red\",border = NA)\n",
    "legend(\"topleft\",legend = c(\"White = 0\", 'Red = 1'),cex = 1.5,bty = \"n\")"
   ]
  },
  {
   "cell_type": "code",
   "execution_count": 59,
   "metadata": {},
   "outputs": [
    {
     "name": "stdout",
     "output_type": "stream",
     "text": [
      "[using ordinary kriging]\n"
     ]
    }
   ],
   "source": [
    "# 100 * 100 = 10000 total points, select 20 as initial samples, fit a Kriging model response to the rest points.\n",
    "level <- seq(0, 1, length=100)\n",
    "N <- 10000\n",
    "X_ALL <- expand.grid(level,level)\n",
    "Grid <- data.frame(X1=X_ALL$Var1,X2=X_ALL$Var2)\n",
    "n <- 20\n",
    "n_init <- n\n",
    "# take 20 random points from the 10000 points\n",
    "indx <- sample(N,n)\n",
    "# x are the used samples\n",
    "x <- Grid[indx, ]\n",
    "# X are the rest points to be estimated\n",
    "X <- Grid[-indx, ]\n",
    "y <- Reliability(x)\n",
    "Data <- data.frame(X1=x$X1,X2=x$X2,y=y)\n",
    "coordinates(Data)=~X1+X2\n",
    "# Fit a variogram\n",
    "TheVariogram=variogram(y~1, data=Data)\n",
    "FittedModel <- fit.variogram(TheVariogram, vgm(\"Exp\"))\n",
    "TheGStat <- gstat(id=\"Rel\", formula=y ~ 1, data=Data,model=FittedModel )\n",
    "XX <- X\n",
    "coordinates(XX) <- ~ X1+X2\n",
    "# Fit the Kriging surface to the rest points\n",
    "KrigSurface <- predict(TheGStat, model=FittedModel, newdata=XX)"
   ]
  },
  {
   "cell_type": "code",
   "execution_count": 60,
   "metadata": {},
   "outputs": [
    {
     "name": "stdout",
     "output_type": "stream",
     "text": [
      "[1] 0.3956384 0.0001000\n"
     ]
    }
   ],
   "source": [
    "mean <- KrigSurface$Rel.pred\n",
    "std <- sqrt(KrigSurface$Rel.var)\n",
    "# P_fail is the estimated failing probability (here define threshold as 0.5: the center point between 0 and 1)\n",
    "P_fail <- (sum(mean>0.5)+sum(y>0.5))/N\n",
    "# U is the learning function for the adaptive learning part, each time choose the point with minimum U\n",
    "# A new sample should be either very close to 0.5 or have a large standard error\n",
    "U <- abs(mean-0.5)/std\n",
    "print(c(min(U),P_fail))\n",
    "if (is.na(P_fail))\n",
    "  P_fail <- 0\n",
    "if (is.na(U))\n",
    "  U <- 0"
   ]
  },
  {
   "cell_type": "code",
   "execution_count": 61,
   "metadata": {},
   "outputs": [
    {
     "name": "stdout",
     "output_type": "stream",
     "text": [
      "[using ordinary kriging]\n",
      "[1] 21.0000000  0.1459108  0.0002000\n",
      "[using ordinary kriging]\n",
      "[1] 2.200000e+01 3.026267e-04 2.000000e-03\n",
      "[using ordinary kriging]\n",
      "[1] 2.300000e+01 1.161763e-04 2.720000e-02\n",
      "[using ordinary kriging]\n",
      "[1] 24.000000000  0.002430358  0.021200000\n",
      "[using ordinary kriging]\n",
      "[1] 25.000000000  0.002729107  0.016200000\n",
      "[using ordinary kriging]\n",
      "[1] 26.00000000  0.01475203  0.03050000\n",
      "[using ordinary kriging]\n",
      "[1] 27.000000000  0.003758829  0.039100000\n",
      "[using ordinary kriging]\n",
      "[1] 28.000000000  0.003458857  0.035100000\n",
      "[using ordinary kriging]\n",
      "[1] 29.00000000  0.01894783  0.03220000\n",
      "[using ordinary kriging]\n",
      "[1] 30.00000000  0.01960711  0.03350000\n",
      "[using ordinary kriging]\n",
      "[1] 31.00000000  0.02225973  0.03540000\n",
      "[using ordinary kriging]\n",
      "[1] 32.000000000  0.005577902  0.033100000\n",
      "[using ordinary kriging]\n",
      "[1] 33.000000000  0.006928446  0.033700000\n",
      "[using ordinary kriging]\n",
      "[1] 34.000000000  0.003414216  0.033200000\n",
      "[using ordinary kriging]\n",
      "[1] 35.000000000  0.002215997  0.034100000\n",
      "[using ordinary kriging]\n",
      "[1] 36.000000000  0.003365214  0.021500000\n",
      "[using ordinary kriging]\n",
      "[1] 3.700000e+01 3.121235e-04 2.590000e-02\n",
      "[using ordinary kriging]\n",
      "[1] 3.800000e+01 1.118154e-04 2.860000e-02\n",
      "[using ordinary kriging]\n",
      "[1] 39.000000000  0.004299106  0.020700000\n",
      "[using ordinary kriging]\n",
      "[1] 40.000000000  0.001608048  0.020800000\n",
      "[using ordinary kriging]\n",
      "[1] 4.100000e+01 4.398407e-04 3.530000e-02\n",
      "[using ordinary kriging]\n",
      "[1] 42.000000000  0.001946062  0.037100000\n",
      "[using ordinary kriging]\n",
      "[1] 4.300000e+01 7.913806e-04 3.630000e-02\n",
      "[using ordinary kriging]\n",
      "[1] 44.000000000  0.001335126  0.032300000\n",
      "[using ordinary kriging]\n",
      "[1] 4.500000e+01 7.605775e-04 3.700000e-02\n",
      "[using ordinary kriging]\n",
      "[1] 4.600000e+01 9.052868e-04 3.830000e-02\n",
      "[using ordinary kriging]\n",
      "[1] 47.000000000  0.001456048  0.036800000\n",
      "[using ordinary kriging]\n",
      "[1] 4.800000e+01 2.335373e-04 3.510000e-02\n",
      "[using ordinary kriging]\n",
      "[1] 4.900000e+01 5.683986e-04 3.350000e-02\n",
      "[using ordinary kriging]\n",
      "[1] 5.000000e+01 1.460092e-04 3.570000e-02\n",
      "[using ordinary kriging]\n",
      "[1] 5.100000e+01 1.072319e-05 3.730000e-02\n",
      "[using ordinary kriging]\n",
      "[1] 5.20000e+01 2.01704e-04 3.53000e-02\n",
      "[using ordinary kriging]\n",
      "[1] 53.000000000  0.001463098  0.037700000\n",
      "[using ordinary kriging]\n",
      "[1] 54.00000000  0.00246995  0.03570000\n",
      "[using ordinary kriging]\n",
      "[1] 5.500000e+01 7.212335e-04 3.720000e-02\n",
      "[using ordinary kriging]\n",
      "[1] 5.600000e+01 3.352714e-04 3.420000e-02\n",
      "[using ordinary kriging]\n",
      "[1] 5.700000e+01 6.775431e-04 3.690000e-02\n",
      "[using ordinary kriging]\n",
      "[1] 5.800000e+01 8.401011e-04 3.590000e-02\n",
      "[using ordinary kriging]\n",
      "[1] 5.900000e+01 2.493512e-04 3.500000e-02\n",
      "[using ordinary kriging]\n",
      "[1] 6.00000e+01 9.42636e-04 3.30000e-02\n",
      "[using ordinary kriging]\n",
      "[1] 61.000000000  0.001356493  0.034300000\n",
      "[using ordinary kriging]\n",
      "[1] 6.200000e+01 6.070389e-04 3.400000e-02\n",
      "[using ordinary kriging]\n",
      "[1] 6.300000e+01 5.596458e-04 3.330000e-02\n",
      "[using ordinary kriging]\n",
      "[1] 6.400000e+01 5.188487e-04 3.240000e-02\n",
      "[using ordinary kriging]\n",
      "[1] 6.500000e+01 7.428833e-04 3.380000e-02\n",
      "[using ordinary kriging]\n",
      "[1] 6.600000e+01 6.498361e-04 3.240000e-02\n",
      "[using ordinary kriging]\n",
      "[1] 6.700000e+01 2.321042e-05 3.500000e-02\n",
      "[using ordinary kriging]\n",
      "[1] 68.000000000  0.003956622  0.034500000\n",
      "[using ordinary kriging]\n",
      "[1] 6.900000e+01 1.030443e-04 3.450000e-02\n",
      "[using ordinary kriging]\n",
      "[1] 70.000000000  0.001218618  0.033100000\n",
      "[using ordinary kriging]\n",
      "[1] 71.00000000  0.01619851  0.03450000\n",
      "[using ordinary kriging]\n",
      "[1] 7.200000e+01 5.677998e-04 3.600000e-02\n",
      "[using ordinary kriging]\n",
      "[1] 73.000000000  0.001310365  0.037200000\n",
      "[using ordinary kriging]\n",
      "[1] 7.400000e+01 8.611187e-04 3.640000e-02\n",
      "[using ordinary kriging]\n",
      "[1] 75.000000000  0.005170344  0.035200000\n",
      "[using ordinary kriging]\n",
      "[1] 7.60000e+01 9.10443e-04 3.52000e-02\n",
      "[using ordinary kriging]\n",
      "[1] 77.000000000  0.004820055  0.035800000\n",
      "[using ordinary kriging]\n",
      "[1] 78.000000000  0.001063666  0.035000000\n",
      "[using ordinary kriging]\n",
      "[1] 79.000000000  0.001942277  0.035800000\n",
      "[using ordinary kriging]\n",
      "[1] 8.000000e+01 1.675475e-04 3.620000e-02\n",
      "[using ordinary kriging]\n",
      "[1] 81.000000000  0.002118365  0.036000000\n",
      "[using ordinary kriging]\n",
      "[1] 82.000000000  0.002319129  0.035500000\n",
      "[using ordinary kriging]\n",
      "[1] 8.300000e+01 2.258203e-04 3.590000e-02\n",
      "[using ordinary kriging]\n",
      "[1] 8.400000e+01 9.549613e-04 3.650000e-02\n",
      "[using ordinary kriging]\n",
      "[1] 85.000000000  0.002257985  0.036200000\n",
      "[using ordinary kriging]\n",
      "[1] 8.600000e+01 3.165085e-04 3.570000e-02\n",
      "[using ordinary kriging]\n",
      "[1] 87.000000000  0.002703105  0.035900000\n",
      "[using ordinary kriging]\n",
      "[1] 88.000000000  0.001183641  0.036300000\n",
      "[using ordinary kriging]\n",
      "[1] 89.00000000  0.00258147  0.03620000\n",
      "[using ordinary kriging]\n",
      "[1] 90.000000000  0.002083595  0.035700000\n",
      "[using ordinary kriging]\n",
      "[1] 91.000000000  0.001478837  0.036100000\n",
      "[using ordinary kriging]\n",
      "[1] 92.000000000  0.006202038  0.036200000\n",
      "[using ordinary kriging]\n",
      "[1] 93.00000000  0.00518573  0.03610000\n",
      "[using ordinary kriging]\n",
      "[1] 94.00000000  0.01189476  0.03610000\n",
      "[using ordinary kriging]\n",
      "[1] 95.000000000  0.002119871  0.035800000\n",
      "[using ordinary kriging]\n",
      "[1] 96.00000000  0.07759714  0.00440000\n",
      "[using ordinary kriging]\n",
      "[1] 97.00000000  0.07265842  0.00450000\n",
      "[using ordinary kriging]\n",
      "[1] 98.00000000  0.06297478  0.00460000\n",
      "  model        psill       range\n",
      "1   Nug 2.338874e-01  0.00000000\n",
      "2   Exp 1.486860e-12 -0.06124335\n"
     ]
    },
    {
     "ename": "ERROR",
     "evalue": "Error in load.variogram.model(object$model[[name]], c(i - 1, i - 1), max_dist = max_dist): variogram range can never be negative\n",
     "output_type": "error",
     "traceback": [
      "Error in load.variogram.model(object$model[[name]], c(i - 1, i - 1), max_dist = max_dist): variogram range can never be negative\nTraceback:\n",
      "1. predict(TheGStat, model = FittedModel, newdata = XX)",
      "2. predict.gstat(TheGStat, model = FittedModel, newdata = XX)",
      "3. load.variogram.model(object$model[[name]], c(i - 1, i - 1), max_dist = max_dist)",
      "4. stop(\"variogram range can never be negative\")"
     ]
    }
   ],
   "source": [
    "# Adaptive sampling\n",
    "# Stopping threshold is defined as 0.5\n",
    "while ((min(U)<=0.5) | P_fail==0){\n",
    "  n <- n+1\n",
    "  i <- which(U==min(U))\n",
    "    # Randomly choose a new sample if multiple samples have the same minimum U\n",
    "  if (length(i)>1){\n",
    "    i <- sample(i,1)\n",
    "  }\n",
    "    # Update new x, y, X\n",
    "  y <- append(y,Reliability(X[i, ]))\n",
    "  x <- rbind.data.frame(x,X[i, ])\n",
    "  X <- X[-i, ]\n",
    "  XX <- X\n",
    "  coordinates(XX) <- ~ X1+X2\n",
    "  Data <- data.frame(X1=x$X1,X2=x$X2,y=y)\n",
    "  coordinates(Data)=~X1+X2\n",
    "    # Fit a new variogram and Kriging model\n",
    "  TheVariogram=variogram(y~1, data=Data)\n",
    "  FittedModel <- fit.variogram(TheVariogram, vgm(\"Exp\"))\n",
    "  TheGStat <- gstat(id=\"Rel\", formula=y ~ 1, data=Data,model=FittedModel )\n",
    "  KrigSurface <- predict(TheGStat, model=FittedModel, newdata=XX)\n",
    "  mean <- KrigSurface$Rel.pred\n",
    "  std <- sqrt(KrigSurface$Rel.var)\n",
    "    # Update new failing probability and learning function\n",
    "  P_fail <- (sum(mean>0.5)+sum(y>0.5))/N\n",
    "  if (is.na(P_fail))\n",
    "    P_fail <- 0\n",
    "  U <- abs(mean-0.5)/std\n",
    "  if (is.na(U))\n",
    "    U <- 0\n",
    "  print(c(n,min(U),P_fail))\n",
    "}"
   ]
  },
  {
   "cell_type": "code",
   "execution_count": 62,
   "metadata": {},
   "outputs": [
    {
     "name": "stdout",
     "output_type": "stream",
     "text": [
      "  model        psill       range\n",
      "1   Nug 2.338874e-01  0.00000000\n",
      "2   Exp 1.486860e-12 -0.06124335\n"
     ]
    },
    {
     "ename": "ERROR",
     "evalue": "Error in load.variogram.model(object$model[[name]], c(i - 1, i - 1), max_dist = max_dist): variogram range can never be negative\n",
     "output_type": "error",
     "traceback": [
      "Error in load.variogram.model(object$model[[name]], c(i - 1, i - 1), max_dist = max_dist): variogram range can never be negative\nTraceback:\n",
      "1. predict(TheGStat, model = FittedModel, newdata = Grid)",
      "2. predict.gstat(TheGStat, model = FittedModel, newdata = Grid)",
      "3. load.variogram.model(object$model[[name]], c(i - 1, i - 1), max_dist = max_dist)",
      "4. stop(\"variogram range can never be negative\")"
     ]
    }
   ],
   "source": [
    "Grid <- data.frame(X1=X_ALL$Var1,X2=X_ALL$Var2)\n",
    "coordinates(Grid) <- ~ X1+X2\n",
    "KrigSurface <- predict(TheGStat, model=FittedModel, newdata=Grid)\n",
    "\n",
    "colfunc <- colorRampPalette(c(\"white\", \"red\"))\n",
    "cols <- colfunc(100)\n",
    "image.plot(level,level, matrix(KrigSurface$Rel.pred,ncol=100),xaxt=\"n\",yaxt=\"n\", xlab=\"x1\", ylab=\"x2\", col=cols,cex.lab=1.5,cex.axis=1.5)\n",
    "points(x$X1[1:n_init],x$X2[1:n_init],pch=20,cex=2)\n",
    "points(x$X1[(n_init+1):n],x$X2[(n_init+1):n],pch=20,cex=2,col=\"blue\")\n",
    "lines(level,0.75/level,lwd=2)"
   ]
  }
 ],
 "metadata": {
  "kernelspec": {
   "display_name": "R 4.1.1",
   "language": "R",
   "name": "ir41"
  },
  "language_info": {
   "codemirror_mode": "r",
   "file_extension": ".r",
   "mimetype": "text/x-r-source",
   "name": "R",
   "pygments_lexer": "r",
   "version": "4.1.1"
  }
 },
 "nbformat": 4,
 "nbformat_minor": 4
}
